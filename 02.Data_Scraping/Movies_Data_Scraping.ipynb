{
 "cells": [
  {
   "cell_type": "markdown",
   "id": "educated-marks",
   "metadata": {},
   "source": [
    "## Avtaar Carreer Learning\n",
    "### Machine Learning Engineer Track\n",
    "### Assignemnt 2 : Data Scraping from Wikipedia\n",
    "### <span style=\"color:red\">Author : Sahil Kavitake</span>"
   ]
  },
  {
   "cell_type": "markdown",
   "id": "speaking-celebration",
   "metadata": {},
   "source": [
    "## Goal 🎯\n",
    "The objective of this project is to scrape the wikipedia pages of your tip 5 favourite movies details\n",
    "- The Movie Name\n",
    "- Director\n",
    "- Year of Release\n",
    "- OVerall gross earning\n",
    "- The cast\n",
    "\n",
    "<br>Expected output in the csv format"
   ]
  },
  {
   "cell_type": "markdown",
   "id": "conscious-logistics",
   "metadata": {},
   "source": [
    "## Libraries"
   ]
  },
  {
   "cell_type": "code",
   "execution_count": 1,
   "id": "dated-synthetic",
   "metadata": {
    "ExecuteTime": {
     "end_time": "2021-11-13T13:52:11.474804Z",
     "start_time": "2021-11-13T13:52:10.967745Z"
    }
   },
   "outputs": [],
   "source": [
    "import requests\n",
    "import urllib.request\n",
    "import time\n",
    "from bs4 import BeautifulSoup\n",
    "import numpy as np\n",
    "import pandas as pd\n",
    "from urllib.request import urlopen\n",
    "import os"
   ]
  },
  {
   "cell_type": "markdown",
   "id": "perfect-venue",
   "metadata": {},
   "source": [
    "## Loading movies from txt files"
   ]
  },
  {
   "cell_type": "code",
   "execution_count": 2,
   "id": "novel-volume",
   "metadata": {
    "ExecuteTime": {
     "end_time": "2021-11-13T13:52:11.505226Z",
     "start_time": "2021-11-13T13:52:11.476802Z"
    }
   },
   "outputs": [
    {
     "data": {
      "text/html": [
       "<div>\n",
       "<style scoped>\n",
       "    .dataframe tbody tr th:only-of-type {\n",
       "        vertical-align: middle;\n",
       "    }\n",
       "\n",
       "    .dataframe tbody tr th {\n",
       "        vertical-align: top;\n",
       "    }\n",
       "\n",
       "    .dataframe thead th {\n",
       "        text-align: right;\n",
       "    }\n",
       "</style>\n",
       "<table border=\"1\" class=\"dataframe\">\n",
       "  <thead>\n",
       "    <tr style=\"text-align: right;\">\n",
       "      <th></th>\n",
       "      <th>0</th>\n",
       "    </tr>\n",
       "  </thead>\n",
       "  <tbody>\n",
       "    <tr>\n",
       "      <th>0</th>\n",
       "      <td>Interstellar</td>\n",
       "    </tr>\n",
       "    <tr>\n",
       "      <th>1</th>\n",
       "      <td>Inception</td>\n",
       "    </tr>\n",
       "    <tr>\n",
       "      <th>2</th>\n",
       "      <td>Avengers: Endgame</td>\n",
       "    </tr>\n",
       "    <tr>\n",
       "      <th>3</th>\n",
       "      <td>Hacksaw Ridge</td>\n",
       "    </tr>\n",
       "    <tr>\n",
       "      <th>4</th>\n",
       "      <td>The Green Mile</td>\n",
       "    </tr>\n",
       "    <tr>\n",
       "      <th>5</th>\n",
       "      <td>Saving Private Ryan</td>\n",
       "    </tr>\n",
       "    <tr>\n",
       "      <th>6</th>\n",
       "      <td>Schindler's List</td>\n",
       "    </tr>\n",
       "    <tr>\n",
       "      <th>7</th>\n",
       "      <td>somerandominvalidmovie</td>\n",
       "    </tr>\n",
       "  </tbody>\n",
       "</table>\n",
       "</div>"
      ],
      "text/plain": [
       "                        0\n",
       "0            Interstellar\n",
       "1               Inception\n",
       "2       Avengers: Endgame\n",
       "3           Hacksaw Ridge\n",
       "4          The Green Mile\n",
       "5     Saving Private Ryan\n",
       "6        Schindler's List\n",
       "7  somerandominvalidmovie"
      ]
     },
     "execution_count": 2,
     "metadata": {},
     "output_type": "execute_result"
    }
   ],
   "source": [
    "movies = pd.read_csv(\"movies.txt\",sep=\"\\n\",header=None)\n",
    "movies"
   ]
  },
  {
   "cell_type": "code",
   "execution_count": 3,
   "id": "regulated-first",
   "metadata": {
    "ExecuteTime": {
     "end_time": "2021-11-13T13:52:11.521227Z",
     "start_time": "2021-11-13T13:52:11.508234Z"
    }
   },
   "outputs": [
    {
     "data": {
      "text/plain": [
       "0              Interstellar\n",
       "1                 Inception\n",
       "2         Avengers: Endgame\n",
       "3             Hacksaw Ridge\n",
       "4            The Green Mile\n",
       "5       Saving Private Ryan\n",
       "6          Schindler's List\n",
       "7    somerandominvalidmovie\n",
       "Name: 0, dtype: object"
      ]
     },
     "execution_count": 3,
     "metadata": {},
     "output_type": "execute_result"
    }
   ],
   "source": [
    "movies.iloc[:, 0]"
   ]
  },
  {
   "cell_type": "markdown",
   "id": "existing-university",
   "metadata": {},
   "source": [
    "## Hitting wikipedia URL and getting movie info"
   ]
  },
  {
   "cell_type": "code",
   "execution_count": 4,
   "id": "existing-fellowship",
   "metadata": {
    "ExecuteTime": {
     "end_time": "2021-11-13T13:52:13.095311Z",
     "start_time": "2021-11-13T13:52:11.522229Z"
    }
   },
   "outputs": [],
   "source": [
    "url = 'https://en.wikipedia.org/wiki/Saving_Private_Ryan'\n",
    "html = urlopen(url) \n",
    "soup = BeautifulSoup(html, 'html.parser')"
   ]
  },
  {
   "cell_type": "code",
   "execution_count": 5,
   "id": "according-culture",
   "metadata": {
    "ExecuteTime": {
     "end_time": "2021-11-13T13:52:13.111303Z",
     "start_time": "2021-11-13T13:52:13.096314Z"
    }
   },
   "outputs": [
    {
     "name": "stdout",
     "output_type": "stream",
     "text": [
      "true\n"
     ]
    }
   ],
   "source": [
    "classes = soup.find('table',{'class':\"infobox vevent\"})\n",
    "if(classes):\n",
    "    print(\"true\")\n",
    "else:\n",
    "    url = 'https://en.wikipedia.org/wiki/Interstellar_film'\n",
    "    html = urlopen(url) \n",
    "    soup = BeautifulSoup(html, 'html.parser')"
   ]
  },
  {
   "cell_type": "code",
   "execution_count": 6,
   "id": "mounted-winter",
   "metadata": {
    "ExecuteTime": {
     "end_time": "2021-11-13T13:52:13.127394Z",
     "start_time": "2021-11-13T13:52:13.112384Z"
    }
   },
   "outputs": [
    {
     "name": "stdout",
     "output_type": "stream",
     "text": [
      "true\n"
     ]
    }
   ],
   "source": [
    "classes = soup.find('table',{'class':\"infobox vevent\"})\n",
    "if(classes):\n",
    "    print(\"true\")"
   ]
  },
  {
   "cell_type": "code",
   "execution_count": 7,
   "id": "postal-casino",
   "metadata": {
    "ExecuteTime": {
     "end_time": "2021-11-13T13:52:13.158532Z",
     "start_time": "2021-11-13T13:52:13.128393Z"
    }
   },
   "outputs": [
    {
     "data": {
      "text/plain": [
       "<table class=\"infobox vevent\"><tbody><tr><th class=\"infobox-above summary\" colspan=\"2\" style=\"font-size: 125%; font-style: italic;\">Saving Private Ryan</th></tr><tr><td class=\"infobox-image\" colspan=\"2\"><a class=\"image\" href=\"/wiki/File:Saving_Private_Ryan_poster.jpg\"><img alt=\"Saving Private Ryan poster.jpg\" class=\"thumbborder\" data-file-height=\"368\" data-file-width=\"250\" decoding=\"async\" height=\"324\" src=\"//upload.wikimedia.org/wikipedia/en/thumb/a/ac/Saving_Private_Ryan_poster.jpg/220px-Saving_Private_Ryan_poster.jpg\" srcset=\"//upload.wikimedia.org/wikipedia/en/a/ac/Saving_Private_Ryan_poster.jpg 1.5x\" width=\"220\"/></a><div class=\"infobox-caption\">Theatrical release poster</div></td></tr><tr><th class=\"infobox-label\" scope=\"row\" style=\"white-space: nowrap; padding-right: 0.65em;\">Directed by</th><td class=\"infobox-data\"><a href=\"/wiki/Steven_Spielberg\" title=\"Steven Spielberg\">Steven Spielberg</a></td></tr><tr><th class=\"infobox-label\" scope=\"row\" style=\"white-space: nowrap; padding-right: 0.65em;\">Written by</th><td class=\"infobox-data\"><a href=\"/wiki/Robert_Rodat\" title=\"Robert Rodat\">Robert Rodat</a></td></tr><tr><th class=\"infobox-label\" scope=\"row\" style=\"white-space: nowrap; padding-right: 0.65em;\">Produced by</th><td class=\"infobox-data\"><div class=\"plainlist\"><ul><li>Steven Spielberg</li><li><a href=\"/wiki/Ian_Bryce\" title=\"Ian Bryce\">Ian Bryce</a></li><li><a class=\"mw-redirect\" href=\"/wiki/Mark_Gordon_(film)\" title=\"Mark Gordon (film)\">Mark Gordon</a></li><li><a href=\"/wiki/Gary_Levinsohn\" title=\"Gary Levinsohn\">Gary Levinsohn</a></li></ul></div></td></tr><tr><th class=\"infobox-label\" scope=\"row\" style=\"white-space: nowrap; padding-right: 0.65em;\">Starring</th><td class=\"infobox-data\"><div class=\"plainlist\"><ul><li><a href=\"/wiki/Tom_Hanks\" title=\"Tom Hanks\">Tom Hanks</a></li><li><a href=\"/wiki/Edward_Burns\" title=\"Edward Burns\">Edward Burns</a></li><li><a href=\"/wiki/Matt_Damon\" title=\"Matt Damon\">Matt Damon</a></li><li><a href=\"/wiki/Tom_Sizemore\" title=\"Tom Sizemore\">Tom Sizemore</a></li></ul></div></td></tr><tr><th class=\"infobox-label\" scope=\"row\" style=\"white-space: nowrap; padding-right: 0.65em;\">Cinematography</th><td class=\"infobox-data\"><a href=\"/wiki/Janusz_Kami%C5%84ski\" title=\"Janusz Kamiński\">Janusz Kamiński</a></td></tr><tr><th class=\"infobox-label\" scope=\"row\" style=\"white-space: nowrap; padding-right: 0.65em;\">Edited by</th><td class=\"infobox-data\"><a href=\"/wiki/Michael_Kahn_(film_editor)\" title=\"Michael Kahn (film editor)\">Michael Kahn</a></td></tr><tr><th class=\"infobox-label\" scope=\"row\" style=\"white-space: nowrap; padding-right: 0.65em;\">Music by</th><td class=\"infobox-data\"><a href=\"/wiki/John_Williams\" title=\"John Williams\">John Williams</a></td></tr><tr><th class=\"infobox-label\" scope=\"row\" style=\"white-space: nowrap; padding-right: 0.65em;\"><div style=\"display:inline-block; padding:0.1em 0;line-height:1.2em;\">Production<br/>companies </div></th><td class=\"infobox-data\"><div style=\"vertical-align: middle;\"><div class=\"plainlist\"><ul><li><a href=\"/wiki/DreamWorks_Pictures\" title=\"DreamWorks Pictures\">DreamWorks Pictures</a></li><li><a href=\"/wiki/Paramount_Pictures\" title=\"Paramount Pictures\">Paramount Pictures</a></li><li><a href=\"/wiki/Amblin_Entertainment\" title=\"Amblin Entertainment\">Amblin Entertainment</a></li><li><a href=\"/wiki/Mutual_Film_Company\" title=\"Mutual Film Company\">Mutual Film Company</a></li></ul></div></div></td></tr><tr><th class=\"infobox-label\" scope=\"row\" style=\"white-space: nowrap; padding-right: 0.65em;\">Distributed by</th><td class=\"infobox-data\"><div class=\"plainlist\"><ul><li>DreamWorks Pictures (U.S. and Canada)</li><li>Paramount Pictures (International)</li></ul></div></td></tr><tr><th class=\"infobox-label\" scope=\"row\" style=\"white-space: nowrap; padding-right: 0.65em;\"><div style=\"display:inline-block; padding:0.1em 0;line-height:1.2em;white-space: normal;\">Release date</div></th><td class=\"infobox-data\"><div class=\"plainlist\">\n",
       "<ul><li>July 24, 1998<span style=\"display:none\"> (<span class=\"bday dtstart published updated\">1998-07-24</span>)</span></li></ul>\n",
       "</div></td></tr><tr><th class=\"infobox-label\" scope=\"row\" style=\"white-space: nowrap; padding-right: 0.65em;\"><div style=\"display:inline-block; padding:0.1em 0;line-height:1.2em;white-space: normal;\">Running time</div></th><td class=\"infobox-data\">169 minutes</td></tr><tr><th class=\"infobox-label\" scope=\"row\" style=\"white-space: nowrap; padding-right: 0.65em;\">Country</th><td class=\"infobox-data\">United States</td></tr><tr><th class=\"infobox-label\" scope=\"row\" style=\"white-space: nowrap; padding-right: 0.65em;\">Language</th><td class=\"infobox-data\">English</td></tr><tr><th class=\"infobox-label\" scope=\"row\" style=\"white-space: nowrap; padding-right: 0.65em;\">Budget</th><td class=\"infobox-data\">$70 million<sup class=\"reference\" id=\"cite_ref-boxoffice_1-0\"><a href=\"#cite_note-boxoffice-1\">[1]</a></sup></td></tr><tr><th class=\"infobox-label\" scope=\"row\" style=\"white-space: nowrap; padding-right: 0.65em;\">Box office</th><td class=\"infobox-data\">$482.3 million<sup class=\"reference\" id=\"cite_ref-boxoffice_1-1\"><a href=\"#cite_note-boxoffice-1\">[1]</a></sup></td></tr></tbody></table>"
      ]
     },
     "execution_count": 7,
     "metadata": {},
     "output_type": "execute_result"
    }
   ],
   "source": [
    "classes"
   ]
  },
  {
   "cell_type": "markdown",
   "id": "endangered-pattern",
   "metadata": {},
   "source": [
    "### Movie Name"
   ]
  },
  {
   "cell_type": "code",
   "execution_count": 8,
   "id": "ordered-tractor",
   "metadata": {
    "ExecuteTime": {
     "end_time": "2021-11-13T13:52:13.219485Z",
     "start_time": "2021-11-13T13:52:13.160535Z"
    }
   },
   "outputs": [
    {
     "name": "stdout",
     "output_type": "stream",
     "text": [
      "<th class=\"infobox-above summary\" colspan=\"2\" style=\"font-size: 125%; font-style: italic;\">Saving Private Ryan</th>\n",
      "Saving Private Ryan\n"
     ]
    }
   ],
   "source": [
    "th = classes.find('th',{'class':\"infobox-above\"})\n",
    "print(th)\n",
    "# td = th.findNext('td')\n",
    "# print(td)\n",
    "print(th.text)"
   ]
  },
  {
   "cell_type": "markdown",
   "id": "charitable-exhibit",
   "metadata": {},
   "source": [
    "### Director"
   ]
  },
  {
   "cell_type": "code",
   "execution_count": 9,
   "id": "specific-karen",
   "metadata": {
    "ExecuteTime": {
     "end_time": "2021-11-13T13:52:13.251485Z",
     "start_time": "2021-11-13T13:52:13.222487Z"
    }
   },
   "outputs": [
    {
     "name": "stdout",
     "output_type": "stream",
     "text": [
      "<th class=\"infobox-label\" scope=\"row\" style=\"white-space: nowrap; padding-right: 0.65em;\">Directed by</th>\n",
      "<td class=\"infobox-data\"><a href=\"/wiki/Steven_Spielberg\" title=\"Steven Spielberg\">Steven Spielberg</a></td>\n",
      "['Steven Spielberg', <a href=\"/wiki/Ian_Bryce\" title=\"Ian Bryce\">Ian Bryce</a>, <li><a class=\"mw-redirect\" href=\"/wiki/Mark_Gordon_(film)\" title=\"Mark Gordon (film)\">Mark Gordon</a></li>, 'Mark Gordon', <a href=\"/wiki/Gary_Levinsohn\" title=\"Gary Levinsohn\">Gary Levinsohn</a>]\n",
      "Directed by Steven Spielberg\n"
     ]
    }
   ],
   "source": [
    "th = classes.find('th', text = \"Directed by\")\n",
    "print(th)\n",
    "td = th.findNext('td')\n",
    "print(td)\n",
    "ul = td.find_next('ul')\n",
    "for li in td.find_all('li'):\n",
    "    print(li.text, end=\" \") \n",
    "# print(li.text)\n",
    "print(list(ul.descendants)[1::2])\n",
    "print(th.text, td.text)"
   ]
  },
  {
   "cell_type": "markdown",
   "id": "affecting-eight",
   "metadata": {},
   "source": [
    "### Budget "
   ]
  },
  {
   "cell_type": "code",
   "execution_count": 10,
   "id": "threaded-shuttle",
   "metadata": {
    "ExecuteTime": {
     "end_time": "2021-11-13T13:52:13.283486Z",
     "start_time": "2021-11-13T13:52:13.254485Z"
    }
   },
   "outputs": [
    {
     "name": "stdout",
     "output_type": "stream",
     "text": [
      "<th class=\"infobox-label\" scope=\"row\" style=\"white-space: nowrap; padding-right: 0.65em;\">Budget</th>\n",
      "<td class=\"infobox-data\">$70 million<sup class=\"reference\" id=\"cite_ref-boxoffice_1-0\"><a href=\"#cite_note-boxoffice-1\">[1]</a></sup></td>\n",
      "Budget $70 million\n"
     ]
    }
   ],
   "source": [
    "th = classes.find('th', text = \"Budget\")\n",
    "print(th)\n",
    "td = th.findNext('td')\n",
    "print(td)\n",
    "print(th.text, td.text.split('[')[0])"
   ]
  },
  {
   "cell_type": "markdown",
   "id": "patent-harbor",
   "metadata": {},
   "source": [
    "### Box office Collection "
   ]
  },
  {
   "cell_type": "code",
   "execution_count": 11,
   "id": "outdoor-waste",
   "metadata": {
    "ExecuteTime": {
     "end_time": "2021-11-13T13:52:13.347512Z",
     "start_time": "2021-11-13T13:52:13.285488Z"
    }
   },
   "outputs": [
    {
     "name": "stdout",
     "output_type": "stream",
     "text": [
      "<th class=\"infobox-label\" scope=\"row\" style=\"white-space: nowrap; padding-right: 0.65em;\">Box office</th>\n",
      "<td class=\"infobox-data\">$482.3 million<sup class=\"reference\" id=\"cite_ref-boxoffice_1-1\"><a href=\"#cite_note-boxoffice-1\">[1]</a></sup></td>\n",
      "Box office $482.3 million\n"
     ]
    }
   ],
   "source": [
    "th = classes.find('th', text = \"Box office\")\n",
    "print(th)\n",
    "td = th.findNext('td')\n",
    "print(td)\n",
    "print(th.text, td.text.split('[')[0])"
   ]
  },
  {
   "cell_type": "markdown",
   "id": "demonstrated-location",
   "metadata": {},
   "source": [
    "### Release date"
   ]
  },
  {
   "cell_type": "code",
   "execution_count": 12,
   "id": "anonymous-brick",
   "metadata": {
    "ExecuteTime": {
     "end_time": "2021-11-13T13:52:13.363486Z",
     "start_time": "2021-11-13T13:52:13.349486Z"
    }
   },
   "outputs": [
    {
     "name": "stdout",
     "output_type": "stream",
     "text": [
      "<th class=\"infobox-label\" scope=\"row\" style=\"white-space: nowrap; padding-right: 0.65em;\"><div style=\"display:inline-block; padding:0.1em 0;line-height:1.2em;white-space: normal;\">Release date</div></th>\n",
      "<td class=\"infobox-data\"><div class=\"plainlist\">\n",
      "<ul><li>July 24, 1998<span style=\"display:none\"> (<span class=\"bday dtstart published updated\">1998-07-24</span>)</span></li></ul>\n",
      "</div></td>\n",
      "Release date \n",
      "July 24, 1998 (1998-07-24)\n",
      "\n"
     ]
    }
   ],
   "source": [
    "th = classes.find('th', text = \"Release date\")\n",
    "print(th)\n",
    "td = th.findNext('td')\n",
    "print(td)\n",
    "print(th.text, td.text)"
   ]
  },
  {
   "cell_type": "code",
   "execution_count": 13,
   "id": "cleared-gathering",
   "metadata": {
    "ExecuteTime": {
     "end_time": "2021-11-13T13:52:13.425963Z",
     "start_time": "2021-11-13T13:52:13.364484Z"
    }
   },
   "outputs": [
    {
     "name": "stdout",
     "output_type": "stream",
     "text": [
      "1998\n"
     ]
    }
   ],
   "source": [
    "print(td.text.split(',')[1][1:5])"
   ]
  },
  {
   "cell_type": "markdown",
   "id": "romantic-antibody",
   "metadata": {},
   "source": [
    "### Cast"
   ]
  },
  {
   "cell_type": "code",
   "execution_count": 14,
   "id": "saved-strengthening",
   "metadata": {
    "ExecuteTime": {
     "end_time": "2021-11-13T13:52:13.441927Z",
     "start_time": "2021-11-13T13:52:13.427854Z"
    }
   },
   "outputs": [
    {
     "name": "stdout",
     "output_type": "stream",
     "text": [
      "<th class=\"infobox-label\" scope=\"row\" style=\"white-space: nowrap; padding-right: 0.65em;\">Starring</th>\n",
      "<td class=\"infobox-data\"><div class=\"plainlist\"><ul><li><a href=\"/wiki/Tom_Hanks\" title=\"Tom Hanks\">Tom Hanks</a></li><li><a href=\"/wiki/Edward_Burns\" title=\"Edward Burns\">Edward Burns</a></li><li><a href=\"/wiki/Matt_Damon\" title=\"Matt Damon\">Matt Damon</a></li><li><a href=\"/wiki/Tom_Sizemore\" title=\"Tom Sizemore\">Tom Sizemore</a></li></ul></div></td>\n",
      "Starring Tom HanksEdward BurnsMatt DamonTom Sizemore\n"
     ]
    }
   ],
   "source": [
    "th = classes.find('th', text = \"Starring\")\n",
    "print(th)\n",
    "td = th.findNext('td')\n",
    "print(td)\n",
    "print(th.text, td.text)"
   ]
  },
  {
   "cell_type": "code",
   "execution_count": 15,
   "id": "specified-convergence",
   "metadata": {
    "ExecuteTime": {
     "end_time": "2021-11-13T13:52:13.473853Z",
     "start_time": "2021-11-13T13:52:13.443852Z"
    }
   },
   "outputs": [
    {
     "name": "stdout",
     "output_type": "stream",
     "text": [
      "['HanksEdward', 'BurnsMatt', 'DamonTom']\n"
     ]
    }
   ],
   "source": [
    "print(td.text.split(\" \")[1:-1])"
   ]
  },
  {
   "cell_type": "code",
   "execution_count": 16,
   "id": "instructional-national",
   "metadata": {
    "ExecuteTime": {
     "end_time": "2021-11-13T13:52:13.505854Z",
     "start_time": "2021-11-13T13:52:13.476853Z"
    }
   },
   "outputs": [
    {
     "name": "stdout",
     "output_type": "stream",
     "text": [
      "['Tom Hanks', 'Edward Burns', 'Matt Damon', 'Tom Sizemore']\n"
     ]
    }
   ],
   "source": [
    "ul = td.find_next('ul')\n",
    "temp =[] \n",
    "for li in td.find_all('li'):\n",
    "    temp.append(li.text) \n",
    "print(temp)\n"
   ]
  },
  {
   "cell_type": "code",
   "execution_count": 17,
   "id": "answering-raleigh",
   "metadata": {
    "ExecuteTime": {
     "end_time": "2021-11-13T13:52:13.521853Z",
     "start_time": "2021-11-13T13:52:13.507858Z"
    }
   },
   "outputs": [
    {
     "data": {
      "text/plain": [
       "['Tom Hanks', 'Edward Burns', 'Matt Damon', 'Tom Sizemore']"
      ]
     },
     "execution_count": 17,
     "metadata": {},
     "output_type": "execute_result"
    }
   ],
   "source": [
    "[i.text for i in td.find_all('li')]"
   ]
  },
  {
   "cell_type": "code",
   "execution_count": null,
   "id": "explicit-capital",
   "metadata": {},
   "outputs": [],
   "source": []
  },
  {
   "cell_type": "markdown",
   "id": "thousand-riverside",
   "metadata": {},
   "source": [
    "## Merging and Making code clean by Writing Class"
   ]
  },
  {
   "cell_type": "code",
   "execution_count": 18,
   "id": "adult-contribution",
   "metadata": {
    "ExecuteTime": {
     "end_time": "2021-11-13T13:52:13.553011Z",
     "start_time": "2021-11-13T13:52:13.522852Z"
    }
   },
   "outputs": [],
   "source": [
    "class ScrapeMoviesData:\n",
    "    \n",
    "    def __init__(self, movies):\n",
    "        self.Name = []\n",
    "        self.Director = []\n",
    "        self.Year_of_Release = []\n",
    "        self.Budget = []\n",
    "        self.Overall_Gross_Earning = []\n",
    "        self.Cast = []\n",
    "        self.data = self.getCsv(movies)\n",
    "        \n",
    "    def getData(self, classes, pattern):\n",
    "        th = classes.find('th', text = pattern)\n",
    "        return th.findNext('td')\n",
    "\n",
    "    def getClasses(self, url):\n",
    "        try:\n",
    "            html = urlopen(url)\n",
    "        except Exception as e:\n",
    "             return None\n",
    "        soup = BeautifulSoup(html, 'html.parser')\n",
    "        return soup.find('table',{'class':\"infobox vevent\"})\n",
    "    \n",
    "    def getCsv(self, movies):\n",
    "        for movie in movies.iloc[:, 0]:\n",
    "   \n",
    "            ## data preprocessing as space in URL is not allowed\n",
    "    \n",
    "            moviename = movie.replace(\" \",\"_\")\n",
    "            print(\"Scraping... \",movie)\n",
    "            url = 'https://en.wikipedia.org/wiki/'+moviename\n",
    "            classes =self.getClasses(url)\n",
    "            \n",
    "            ## Validating link and trying same with adding _film at end\n",
    "            \n",
    "            if(not classes):\n",
    "                url = 'https://en.wikipedia.org/wiki/'+moviename+'_(film)'\n",
    "                classes =self.getClasses(url)\n",
    "                if(not classes):\n",
    "                    print(\"Plase Check the movie name \",movie)\n",
    "                    continue;   \n",
    "                    \n",
    "            mname = classes.find('th',{'class':\"infobox-above\"})\n",
    "            mname = mname.text if mname else np.nan\n",
    "            self.Name.append(mname)\n",
    "\n",
    "            mdir = self.getData(classes,\"Directed by\")\n",
    "            mdir = mdir.text if mdir else np.nan\n",
    "            self.Director.append(mdir)\n",
    "\n",
    "            mbudg = self.getData(classes,\"Budget\")\n",
    "            mbudg = mbudg.text.split('[')[0] if mbudg else np.nan\n",
    "            self.Budget.append(mbudg)\n",
    "\n",
    "            myear = self.getData(classes,\"Release date\")\n",
    "            myear = myear.text.split(',')[1][1:5] if myear else np.nan\n",
    "            self.Year_of_Release.append(myear)\n",
    "\n",
    "            mearn = self.getData(classes,\"Box office\")\n",
    "            mearn = mearn.text.split('[')[0] if mearn else np.nan\n",
    "            self.Overall_Gross_Earning.append(mearn)\n",
    "\n",
    "            mcast = self.getData(classes,\"Starring\")\n",
    "            mcast = [i.text for i in mcast.find_all('li')] if mcast else np.nan\n",
    "            self.Cast.append(mcast)\n",
    "        \n",
    "        columns = [\"Name\",\"Director\",\"Year_of_Release\",\"Budget\",\"Overall_Gross_Earning\",\"Cast\"]\n",
    "\n",
    "        movies_df = pd.DataFrame(columns=columns)\n",
    "\n",
    "        movies_df['Name']=self.Name\n",
    "        movies_df['Director']=self.Director\n",
    "        movies_df['Year_of_Release']=self.Year_of_Release\n",
    "        movies_df['Budget']=self.Budget\n",
    "        movies_df['Overall_Gross_Earning']=self.Overall_Gross_Earning\n",
    "        movies_df['Cast']=self.Cast\n",
    "        \n",
    "        movies_df.to_csv(\"movies.csv\", index=False)\n",
    "        print('\\nData file of Movies is saved at Location:',os.getcwd()+\"\\movies.csv\")\n",
    "\n",
    "        return movies_df"
   ]
  },
  {
   "cell_type": "code",
   "execution_count": 19,
   "id": "italic-admission",
   "metadata": {
    "ExecuteTime": {
     "end_time": "2021-11-13T13:52:13.584191Z",
     "start_time": "2021-11-13T13:52:13.555012Z"
    }
   },
   "outputs": [
    {
     "data": {
      "text/html": [
       "<div>\n",
       "<style scoped>\n",
       "    .dataframe tbody tr th:only-of-type {\n",
       "        vertical-align: middle;\n",
       "    }\n",
       "\n",
       "    .dataframe tbody tr th {\n",
       "        vertical-align: top;\n",
       "    }\n",
       "\n",
       "    .dataframe thead th {\n",
       "        text-align: right;\n",
       "    }\n",
       "</style>\n",
       "<table border=\"1\" class=\"dataframe\">\n",
       "  <thead>\n",
       "    <tr style=\"text-align: right;\">\n",
       "      <th></th>\n",
       "      <th>0</th>\n",
       "    </tr>\n",
       "  </thead>\n",
       "  <tbody>\n",
       "    <tr>\n",
       "      <th>0</th>\n",
       "      <td>Interstellar</td>\n",
       "    </tr>\n",
       "    <tr>\n",
       "      <th>1</th>\n",
       "      <td>Inception</td>\n",
       "    </tr>\n",
       "    <tr>\n",
       "      <th>2</th>\n",
       "      <td>Avengers: Endgame</td>\n",
       "    </tr>\n",
       "    <tr>\n",
       "      <th>3</th>\n",
       "      <td>Hacksaw Ridge</td>\n",
       "    </tr>\n",
       "    <tr>\n",
       "      <th>4</th>\n",
       "      <td>The Green Mile</td>\n",
       "    </tr>\n",
       "    <tr>\n",
       "      <th>5</th>\n",
       "      <td>Saving Private Ryan</td>\n",
       "    </tr>\n",
       "    <tr>\n",
       "      <th>6</th>\n",
       "      <td>Schindler's List</td>\n",
       "    </tr>\n",
       "    <tr>\n",
       "      <th>7</th>\n",
       "      <td>somerandominvalidmovie</td>\n",
       "    </tr>\n",
       "  </tbody>\n",
       "</table>\n",
       "</div>"
      ],
      "text/plain": [
       "                        0\n",
       "0            Interstellar\n",
       "1               Inception\n",
       "2       Avengers: Endgame\n",
       "3           Hacksaw Ridge\n",
       "4          The Green Mile\n",
       "5     Saving Private Ryan\n",
       "6        Schindler's List\n",
       "7  somerandominvalidmovie"
      ]
     },
     "execution_count": 19,
     "metadata": {},
     "output_type": "execute_result"
    }
   ],
   "source": [
    "movies = pd.read_csv(\"movies.txt\",sep=\"\\n\",header=None)\n",
    "movies"
   ]
  },
  {
   "cell_type": "code",
   "execution_count": 20,
   "id": "vital-bouquet",
   "metadata": {
    "ExecuteTime": {
     "end_time": "2021-11-13T13:52:25.716102Z",
     "start_time": "2021-11-13T13:52:13.586166Z"
    }
   },
   "outputs": [
    {
     "name": "stdout",
     "output_type": "stream",
     "text": [
      "Scraping...  Interstellar\n",
      "Scraping...  Inception\n",
      "Scraping...  Avengers: Endgame\n",
      "Scraping...  Hacksaw Ridge\n",
      "Scraping...  The Green Mile\n",
      "Scraping...  Saving Private Ryan\n",
      "Scraping...  Schindler's List\n",
      "Scraping...  somerandominvalidmovie\n",
      "Plase Check the movie name  somerandominvalidmovie\n"
     ]
    },
    {
     "data": {
      "text/html": [
       "<div>\n",
       "<style scoped>\n",
       "    .dataframe tbody tr th:only-of-type {\n",
       "        vertical-align: middle;\n",
       "    }\n",
       "\n",
       "    .dataframe tbody tr th {\n",
       "        vertical-align: top;\n",
       "    }\n",
       "\n",
       "    .dataframe thead th {\n",
       "        text-align: right;\n",
       "    }\n",
       "</style>\n",
       "<table border=\"1\" class=\"dataframe\">\n",
       "  <thead>\n",
       "    <tr style=\"text-align: right;\">\n",
       "      <th></th>\n",
       "      <th>Name</th>\n",
       "      <th>Director</th>\n",
       "      <th>Year_of_Release</th>\n",
       "      <th>Budget</th>\n",
       "      <th>Overall_Gross_Earning</th>\n",
       "      <th>Cast</th>\n",
       "    </tr>\n",
       "  </thead>\n",
       "  <tbody>\n",
       "    <tr>\n",
       "      <th>0</th>\n",
       "      <td>Interstellar</td>\n",
       "      <td>Christopher Nolan</td>\n",
       "      <td>2014</td>\n",
       "      <td>$165 million</td>\n",
       "      <td>$701.8 million</td>\n",
       "      <td>[Matthew McConaughey, Anne Hathaway, Jessica C...</td>\n",
       "    </tr>\n",
       "    <tr>\n",
       "      <th>1</th>\n",
       "      <td>Inception</td>\n",
       "      <td>Christopher Nolan</td>\n",
       "      <td>2010</td>\n",
       "      <td>$160 million</td>\n",
       "      <td>$836.8 million</td>\n",
       "      <td>[Leonardo DiCaprio, Ken Watanabe, Joseph Gordo...</td>\n",
       "    </tr>\n",
       "    <tr>\n",
       "      <th>2</th>\n",
       "      <td>Avengers: Endgame</td>\n",
       "      <td>Anthony RussoJoe Russo</td>\n",
       "      <td>2019</td>\n",
       "      <td>$356–400 million</td>\n",
       "      <td>$2.798 billion</td>\n",
       "      <td>[Robert Downey Jr., Chris Evans, Mark Ruffalo,...</td>\n",
       "    </tr>\n",
       "    <tr>\n",
       "      <th>3</th>\n",
       "      <td>Hacksaw Ridge</td>\n",
       "      <td>Mel Gibson</td>\n",
       "      <td>2016</td>\n",
       "      <td>$40 million</td>\n",
       "      <td>$180.5 million</td>\n",
       "      <td>[Andrew Garfield, Sam Worthington, Luke Bracey...</td>\n",
       "    </tr>\n",
       "    <tr>\n",
       "      <th>4</th>\n",
       "      <td>The Green Mile</td>\n",
       "      <td>Frank Darabont</td>\n",
       "      <td>1999</td>\n",
       "      <td>$60 million</td>\n",
       "      <td>$286.8 million</td>\n",
       "      <td>[Tom Hanks, David Morse, Bonnie Hunt, Michael ...</td>\n",
       "    </tr>\n",
       "    <tr>\n",
       "      <th>5</th>\n",
       "      <td>Saving Private Ryan</td>\n",
       "      <td>Steven Spielberg</td>\n",
       "      <td>1998</td>\n",
       "      <td>$70 million</td>\n",
       "      <td>$482.3 million</td>\n",
       "      <td>[Tom Hanks, Edward Burns, Matt Damon, Tom Size...</td>\n",
       "    </tr>\n",
       "    <tr>\n",
       "      <th>6</th>\n",
       "      <td>Schindler's List</td>\n",
       "      <td>Steven Spielberg</td>\n",
       "      <td>1993</td>\n",
       "      <td>$22 million</td>\n",
       "      <td>$322.2 million</td>\n",
       "      <td>[Liam Neeson, Ben Kingsley, Ralph Fiennes, Car...</td>\n",
       "    </tr>\n",
       "  </tbody>\n",
       "</table>\n",
       "</div>"
      ],
      "text/plain": [
       "                  Name                Director Year_of_Release  \\\n",
       "0         Interstellar       Christopher Nolan            2014   \n",
       "1            Inception       Christopher Nolan            2010   \n",
       "2    Avengers: Endgame  Anthony RussoJoe Russo            2019   \n",
       "3        Hacksaw Ridge              Mel Gibson            2016   \n",
       "4       The Green Mile          Frank Darabont            1999   \n",
       "5  Saving Private Ryan        Steven Spielberg            1998   \n",
       "6     Schindler's List        Steven Spielberg            1993   \n",
       "\n",
       "             Budget Overall_Gross_Earning  \\\n",
       "0      $165 million        $701.8 million   \n",
       "1      $160 million        $836.8 million   \n",
       "2  $356–400 million        $2.798 billion   \n",
       "3       $40 million        $180.5 million   \n",
       "4       $60 million        $286.8 million   \n",
       "5       $70 million        $482.3 million   \n",
       "6       $22 million        $322.2 million   \n",
       "\n",
       "                                                Cast  \n",
       "0  [Matthew McConaughey, Anne Hathaway, Jessica C...  \n",
       "1  [Leonardo DiCaprio, Ken Watanabe, Joseph Gordo...  \n",
       "2  [Robert Downey Jr., Chris Evans, Mark Ruffalo,...  \n",
       "3  [Andrew Garfield, Sam Worthington, Luke Bracey...  \n",
       "4  [Tom Hanks, David Morse, Bonnie Hunt, Michael ...  \n",
       "5  [Tom Hanks, Edward Burns, Matt Damon, Tom Size...  \n",
       "6  [Liam Neeson, Ben Kingsley, Ralph Fiennes, Car...  "
      ]
     },
     "execution_count": 20,
     "metadata": {},
     "output_type": "execute_result"
    }
   ],
   "source": [
    "obj = ScrapeMoviesData(movies)\n",
    "obj.data"
   ]
  },
  {
   "cell_type": "markdown",
   "id": "healthy-mechanism",
   "metadata": {},
   "source": [
    "## Further Improvements\n",
    "- Class can be improved by adding more functions.\n",
    "- More data can be scraped.\n",
    "- More Validations can be added.\n",
    "- A simple GUI can be made using Tkinter.\n",
    "- Web application can be made using flask."
   ]
  },
  {
   "cell_type": "code",
   "execution_count": null,
   "id": "contrary-shelter",
   "metadata": {},
   "outputs": [],
   "source": []
  }
 ],
 "metadata": {
  "kernelspec": {
   "display_name": "Python 3",
   "language": "python",
   "name": "python3"
  },
  "language_info": {
   "codemirror_mode": {
    "name": "ipython",
    "version": 3
   },
   "file_extension": ".py",
   "mimetype": "text/x-python",
   "name": "python",
   "nbconvert_exporter": "python",
   "pygments_lexer": "ipython3",
   "version": "3.8.8"
  },
  "toc": {
   "base_numbering": 1,
   "nav_menu": {},
   "number_sections": false,
   "sideBar": true,
   "skip_h1_title": false,
   "title_cell": "Table of Contents",
   "title_sidebar": "Contents",
   "toc_cell": false,
   "toc_position": {},
   "toc_section_display": true,
   "toc_window_display": false
  }
 },
 "nbformat": 4,
 "nbformat_minor": 5
}
